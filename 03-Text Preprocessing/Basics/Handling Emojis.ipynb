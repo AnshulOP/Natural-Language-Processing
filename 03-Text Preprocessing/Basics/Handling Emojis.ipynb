{
 "cells": [
  {
   "cell_type": "markdown",
   "id": "d936a5db",
   "metadata": {},
   "source": [
    "#### Importing the Libraries"
   ]
  },
  {
   "cell_type": "code",
   "execution_count": 1,
   "id": "1489ad09",
   "metadata": {},
   "outputs": [],
   "source": [
    "import re\n",
    "import emoji"
   ]
  },
  {
   "cell_type": "markdown",
   "id": "235a6539",
   "metadata": {},
   "source": [
    "#### Handling Emojis inside the sentence"
   ]
  },
  {
   "cell_type": "code",
   "execution_count": 2,
   "id": "351cd3c3",
   "metadata": {},
   "outputs": [],
   "source": [
    "text = \"Hey! 😀 How are you today? 🌞 I'm feeling 😊 because it's a beautiful day outside. 🌻🌺🌷🌼 Let's meet up later! 🍻🍔🍟\""
   ]
  },
  {
   "cell_type": "markdown",
   "id": "35e0612b",
   "metadata": {},
   "source": [
    "#### 1.  Removing Emojis"
   ]
  },
  {
   "cell_type": "code",
   "execution_count": 3,
   "id": "a3453200",
   "metadata": {},
   "outputs": [],
   "source": [
    "def remove_emojis(text):\n",
    "    # define a regular expression pattern to match emojis\n",
    "    emoji_pattern = re.compile(\"[\"\n",
    "        u\"\\U0001F600-\\U0001F64F\"  # emoticons\n",
    "        u\"\\U0001F300-\\U0001F5FF\"  # symbols & pictographs\n",
    "        u\"\\U0001F680-\\U0001F6FF\"  # transport & map symbols\n",
    "        u\"\\U0001F1E0-\\U0001F1FF\"  # flags (iOS)\n",
    "                           \"]+\", flags=re.UNICODE)\n",
    "    # replace emojis with an empty string\n",
    "    text = emoji_pattern.sub(r'', text)\n",
    "    # return the resulting text\n",
    "    return text"
   ]
  },
  {
   "cell_type": "code",
   "execution_count": 4,
   "id": "1c1e55d5",
   "metadata": {},
   "outputs": [
    {
     "data": {
      "text/plain": [
       "\"Hey!  How are you today?  I'm feeling  because it's a beautiful day outside.  Let's meet up later! \""
      ]
     },
     "execution_count": 4,
     "metadata": {},
     "output_type": "execute_result"
    }
   ],
   "source": [
    "remove_emojis(text)"
   ]
  },
  {
   "cell_type": "markdown",
   "id": "e0abec63",
   "metadata": {},
   "source": [
    "#### 2. Demojize"
   ]
  },
  {
   "cell_type": "code",
   "execution_count": 5,
   "id": "6d960a75",
   "metadata": {},
   "outputs": [
    {
     "data": {
      "text/plain": [
       "\"Hey! :grinning_face: How are you today? :sun_with_face: I'm feeling :smiling_face_with_smiling_eyes: because it's a beautiful day outside. :sunflower::hibiscus::tulip::blossom: Let's meet up later! :clinking_beer_mugs::hamburger::french_fries:\""
      ]
     },
     "execution_count": 5,
     "metadata": {},
     "output_type": "execute_result"
    }
   ],
   "source": [
    "emoji.demojize(text)"
   ]
  }
 ],
 "metadata": {
  "kernelspec": {
   "display_name": "Python 3 (ipykernel)",
   "language": "python",
   "name": "python3"
  },
  "language_info": {
   "codemirror_mode": {
    "name": "ipython",
    "version": 3
   },
   "file_extension": ".py",
   "mimetype": "text/x-python",
   "name": "python",
   "nbconvert_exporter": "python",
   "pygments_lexer": "ipython3",
   "version": "3.9.13"
  }
 },
 "nbformat": 4,
 "nbformat_minor": 5
}
