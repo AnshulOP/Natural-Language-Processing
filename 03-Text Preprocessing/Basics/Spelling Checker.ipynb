{
 "cells": [
  {
   "cell_type": "markdown",
   "id": "3f1020d1",
   "metadata": {},
   "source": [
    "#### Importing Libraries"
   ]
  },
  {
   "cell_type": "code",
   "execution_count": 1,
   "id": "2ba2ffe7",
   "metadata": {},
   "outputs": [],
   "source": [
    "from textblob import TextBlob"
   ]
  },
  {
   "cell_type": "markdown",
   "id": "96117461",
   "metadata": {},
   "source": [
    "#### Correcting incorrect spellings in the sentence"
   ]
  },
  {
   "cell_type": "code",
   "execution_count": 2,
   "id": "9df3c37b",
   "metadata": {},
   "outputs": [],
   "source": [
    "text = \"The quik broun fox jumos ovor the laze dog. The dog, howevr, was not imprssd and continuud to slep. Sudenly, a lood noize woke the dog up, and it jumpped to its feet, barkng loudly. The fox, startld by the noize, ran away as fast as it cood.\""
   ]
  },
  {
   "cell_type": "code",
   "execution_count": 3,
   "id": "a1b5a4b8",
   "metadata": {},
   "outputs": [],
   "source": [
    "checker = TextBlob(text)"
   ]
  },
  {
   "cell_type": "code",
   "execution_count": 4,
   "id": "b2d0727b",
   "metadata": {},
   "outputs": [
    {
     "data": {
      "text/plain": [
       "'The quick brown fox jumps over the late dog. The dog, however, was not imposed and continued to step. Suddenly, a good noise woke the dog up, and it jumped to its feet, barking loudly. The fox, started by the noise, ran away as fast as it good.'"
      ]
     },
     "execution_count": 4,
     "metadata": {},
     "output_type": "execute_result"
    }
   ],
   "source": [
    "checker.correct().string"
   ]
  }
 ],
 "metadata": {
  "kernelspec": {
   "display_name": "Python 3 (ipykernel)",
   "language": "python",
   "name": "python3"
  },
  "language_info": {
   "codemirror_mode": {
    "name": "ipython",
    "version": 3
   },
   "file_extension": ".py",
   "mimetype": "text/x-python",
   "name": "python",
   "nbconvert_exporter": "python",
   "pygments_lexer": "ipython3",
   "version": "3.9.13"
  }
 },
 "nbformat": 4,
 "nbformat_minor": 5
}
