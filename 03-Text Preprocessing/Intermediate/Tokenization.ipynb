{
 "cells": [
  {
   "cell_type": "markdown",
   "id": "e35277f2",
   "metadata": {},
   "source": [
    "### 1. Using NLTK"
   ]
  },
  {
   "cell_type": "markdown",
   "id": "e6653406",
   "metadata": {},
   "source": [
    "#### Importing the Libraries"
   ]
  },
  {
   "cell_type": "code",
   "execution_count": 1,
   "id": "239e9435",
   "metadata": {},
   "outputs": [],
   "source": [
    "from nltk.tokenize import sent_tokenize\n",
    "from nltk.tokenize import word_tokenize\n",
    "from nltk.tokenize import wordpunct_tokenize\n",
    "from nltk.tokenize import TweetTokenizer\n",
    "from nltk.tokenize import SpaceTokenizer\n",
    "from nltk.tokenize import LineTokenizer"
   ]
  },
  {
   "cell_type": "markdown",
   "id": "acb0889e",
   "metadata": {},
   "source": [
    "#### Using NLTK libraries for Tokenization"
   ]
  },
  {
   "cell_type": "code",
   "execution_count": 2,
   "id": "5bbc8b73",
   "metadata": {},
   "outputs": [],
   "source": [
    "text = \"My name is Anshul, my email is anshulkalia121@gmail.com     and I live 10km from your house. 😎\""
   ]
  },
  {
   "cell_type": "code",
   "execution_count": 3,
   "id": "8570a95c",
   "metadata": {},
   "outputs": [
    {
     "name": "stdout",
     "output_type": "stream",
     "text": [
      "Sentence Tokenizer : ['My name is Anshul, my email is anshulkalia121@gmail.com     and I live 10km from your house.', '😎']\n",
      "\n",
      "Word Tokenizer : ['My', 'name', 'is', 'Anshul', ',', 'my', 'email', 'is', 'anshulkalia121', '@', 'gmail.com', 'and', 'I', 'live', '10km', 'from', 'your', 'house', '.', '😎']\n",
      "\n",
      "Word Punctuation Tokenizer : ['My', 'name', 'is', 'Anshul', ',', 'my', 'email', 'is', 'anshulkalia121', '@', 'gmail', '.', 'com', 'and', 'I', 'live', '10km', 'from', 'your', 'house', '.', '😎']\n",
      "\n",
      "Tweet Tokenizer : ['My', 'name', 'is', 'Anshul', ',', 'my', 'email', 'is', 'anshulkalia121@gmail.com', 'and', 'I', 'live', '10km', 'from', 'your', 'house', '.', '😎']\n",
      "\n",
      "Space Tokenizer : ['My', 'name', 'is', 'Anshul,', 'my', 'email', 'is', 'anshulkalia121@gmail.com', '', '', '', '', 'and', 'I', 'live', '10km', 'from', 'your', 'house.', '😎']\n"
     ]
    }
   ],
   "source": [
    "print('Sentence Tokenizer :',sent_tokenize(text)) # This tokenizer splits the text into individual sentences, based on the presence of punctuation marks such as periods, exclamation marks, and question marks.\n",
    "print()\n",
    "print('Word Tokenizer :',word_tokenize(text)) # This tokenizer splits the text into individual words, based on the presence of whitespace characters such as spaces, tabs, and line breaks.\n",
    "print()\n",
    "print('Word Punctuation Tokenizer :',wordpunct_tokenize(text)) # This tokenizer splits the text into individual words, based on the presence of both whitespace characters and punctuation marks.\n",
    "print()\n",
    "tokenizer1 = TweetTokenizer()\n",
    "print('Tweet Tokenizer :', tokenizer1.tokenize(text)) # This tokenizer is specifically designed for processing social media text, such as tweets. It splits the text into individual words and symbols, including hashtags, mentions, and emoticons.\n",
    "print()\n",
    "tokenizer2 = SpaceTokenizer()\n",
    "print('Space Tokenizer :', tokenizer2.tokenize(text)) # This tokenizer splits the text into individual \"tokens\" based solely on the presence of whitespace characters, including spaces, tabs, and line breaks."
   ]
  },
  {
   "cell_type": "markdown",
   "id": "9a75d61b",
   "metadata": {},
   "source": [
    "### 2. Using Spacy"
   ]
  },
  {
   "cell_type": "markdown",
   "id": "1075610d",
   "metadata": {},
   "source": [
    "#### Importing the Libraries"
   ]
  },
  {
   "cell_type": "code",
   "execution_count": null,
   "id": "fdf147df",
   "metadata": {},
   "outputs": [],
   "source": [
    "import spacy\n",
    "nlp = spacy.load('en_core_web_sm')"
   ]
  },
  {
   "cell_type": "markdown",
   "id": "00de200a",
   "metadata": {},
   "source": [
    "#### Using Spacy library for Tokenization"
   ]
  },
  {
   "cell_type": "code",
   "execution_count": null,
   "id": "3ecca2ec",
   "metadata": {},
   "outputs": [],
   "source": [
    "text = \"My name is Anshul, my email is anshulkalia121@gmail.com   and I live 10km from your house. 😎\""
   ]
  },
  {
   "cell_type": "code",
   "execution_count": null,
   "id": "5241eada",
   "metadata": {},
   "outputs": [],
   "source": [
    "doc = nlp(text)"
   ]
  },
  {
   "cell_type": "code",
   "execution_count": null,
   "id": "0b59579d",
   "metadata": {},
   "outputs": [],
   "source": [
    "for token in doc:\n",
    "    print(token)"
   ]
  }
 ],
 "metadata": {
  "kernelspec": {
   "display_name": "Python 3 (ipykernel)",
   "language": "python",
   "name": "python3"
  },
  "language_info": {
   "codemirror_mode": {
    "name": "ipython",
    "version": 3
   },
   "file_extension": ".py",
   "mimetype": "text/x-python",
   "name": "python",
   "nbconvert_exporter": "python",
   "pygments_lexer": "ipython3",
   "version": "3.9.13"
  }
 },
 "nbformat": 4,
 "nbformat_minor": 5
}
