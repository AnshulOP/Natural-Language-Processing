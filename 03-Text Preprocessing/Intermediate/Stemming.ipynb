{
 "cells": [
  {
   "cell_type": "markdown",
   "id": "5b6a1025",
   "metadata": {},
   "source": [
    "#### Importing the Libraries"
   ]
  },
  {
   "cell_type": "code",
   "execution_count": 7,
   "id": "2685c568",
   "metadata": {},
   "outputs": [],
   "source": [
    "from nltk.stem import PorterStemmer\n",
    "from nltk.stem import SnowballStemmer\n",
    "from nltk.stem import LancasterStemmer\n",
    "\n",
    "from nltk.tokenize import word_tokenize"
   ]
  },
  {
   "cell_type": "code",
   "execution_count": null,
   "id": "b8909ea9",
   "metadata": {},
   "outputs": [],
   "source": []
  },
  {
   "cell_type": "code",
   "execution_count": 2,
   "id": "cf7984eb",
   "metadata": {},
   "outputs": [],
   "source": [
    "stemmer1 = PorterStemmer()\n",
    "stemmer2 = SnowballStemmer(language='english')\n",
    "stemmer3 = LancasterStemmer()"
   ]
  },
  {
   "cell_type": "code",
   "execution_count": 3,
   "id": "e431ef23",
   "metadata": {},
   "outputs": [],
   "source": [
    "sentence = \"worked working work works driving drive love loving lovable loved eat eaten eating\"\n",
    "words = word_tokenize(sentence)"
   ]
  },
  {
   "cell_type": "code",
   "execution_count": 4,
   "id": "5baf90f9",
   "metadata": {},
   "outputs": [
    {
     "name": "stdout",
     "output_type": "stream",
     "text": [
      "Results after using Porter Stemmer :\n",
      "\n",
      "Word                Lemma               \n",
      "\n",
      "worked              work                \n",
      "working             work                \n",
      "work                work                \n",
      "works               work                \n",
      "driving             drive               \n",
      "drive               drive               \n",
      "love                love                \n",
      "loving              love                \n",
      "lovable             lovabl              \n",
      "loved               love                \n",
      "eat                 eat                 \n",
      "eaten               eaten               \n",
      "eating              eat                 \n"
     ]
    }
   ],
   "source": [
    "print('Results after using Porter Stemmer :')\n",
    "print()\n",
    "# Printing the formatted table header\n",
    "print(\"{0:20}{1:20}\".format(\"Word\", \"Lemma\"))\n",
    "print()\n",
    "# Applying stemmer on each word and printing the results in a formatted table\n",
    "for w in words:\n",
    "    print(\"{0:20}{1:20}\".format(w, stemmer1.stem(w)))"
   ]
  },
  {
   "cell_type": "code",
   "execution_count": 5,
   "id": "b7874210",
   "metadata": {},
   "outputs": [
    {
     "name": "stdout",
     "output_type": "stream",
     "text": [
      "Results after using Porter Stemmer :\n",
      "\n",
      "Word                Lemma               \n",
      "\n",
      "worked              work                \n",
      "working             work                \n",
      "work                work                \n",
      "works               work                \n",
      "driving             drive               \n",
      "drive               drive               \n",
      "love                love                \n",
      "loving              love                \n",
      "lovable             lovabl              \n",
      "loved               love                \n",
      "eat                 eat                 \n",
      "eaten               eaten               \n",
      "eating              eat                 \n"
     ]
    }
   ],
   "source": [
    "print('Results after using Porter Stemmer :')\n",
    "print()\n",
    "# Printing the formatted table header\n",
    "print(\"{0:20}{1:20}\".format(\"Word\", \"Lemma\"))\n",
    "print()\n",
    "# Applying stemmer on each word and printing the results in a formatted table\n",
    "for w in words:\n",
    "    print(\"{0:20}{1:20}\".format(w, stemmer2.stem(w)))"
   ]
  },
  {
   "cell_type": "code",
   "execution_count": 6,
   "id": "89246c22",
   "metadata": {},
   "outputs": [
    {
     "name": "stdout",
     "output_type": "stream",
     "text": [
      "Results after using Porter Stemmer :\n",
      "\n",
      "Word                Lemma               \n",
      "\n",
      "worked              work                \n",
      "working             work                \n",
      "work                work                \n",
      "works               work                \n",
      "driving             driv                \n",
      "drive               driv                \n",
      "love                lov                 \n",
      "loving              lov                 \n",
      "lovable             lov                 \n",
      "loved               lov                 \n",
      "eat                 eat                 \n",
      "eaten               eat                 \n",
      "eating              eat                 \n"
     ]
    }
   ],
   "source": [
    "print('Results after using Porter Stemmer :')\n",
    "print()\n",
    "# Printing the formatted table header\n",
    "print(\"{0:20}{1:20}\".format(\"Word\", \"Lemma\"))\n",
    "print()\n",
    "# Applying stemmer on each word and printing the results in a formatted table\n",
    "for w in words:\n",
    "    print(\"{0:20}{1:20}\".format(w, stemmer3.stem(w)))"
   ]
  }
 ],
 "metadata": {
  "kernelspec": {
   "display_name": "Python 3 (ipykernel)",
   "language": "python",
   "name": "python3"
  },
  "language_info": {
   "codemirror_mode": {
    "name": "ipython",
    "version": 3
   },
   "file_extension": ".py",
   "mimetype": "text/x-python",
   "name": "python",
   "nbconvert_exporter": "python",
   "pygments_lexer": "ipython3",
   "version": "3.9.13"
  }
 },
 "nbformat": 4,
 "nbformat_minor": 5
}
