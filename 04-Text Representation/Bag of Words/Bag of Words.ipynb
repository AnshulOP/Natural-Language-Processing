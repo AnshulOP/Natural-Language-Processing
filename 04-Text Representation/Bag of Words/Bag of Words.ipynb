{
 "cells": [
  {
   "cell_type": "markdown",
   "id": "8e98167c",
   "metadata": {},
   "source": [
    "#### Importing the Libraries"
   ]
  },
  {
   "cell_type": "code",
   "execution_count": 1,
   "id": "5c7fabf6",
   "metadata": {},
   "outputs": [],
   "source": [
    "import numpy as np\n",
    "import pandas as pd"
   ]
  },
  {
   "cell_type": "markdown",
   "id": "0fb2d474",
   "metadata": {},
   "source": [
    "#### Creating a Dataset"
   ]
  },
  {
   "cell_type": "code",
   "execution_count": 4,
   "id": "51a2950b",
   "metadata": {},
   "outputs": [
    {
     "data": {
      "text/html": [
       "<div>\n",
       "<style scoped>\n",
       "    .dataframe tbody tr th:only-of-type {\n",
       "        vertical-align: middle;\n",
       "    }\n",
       "\n",
       "    .dataframe tbody tr th {\n",
       "        vertical-align: top;\n",
       "    }\n",
       "\n",
       "    .dataframe thead th {\n",
       "        text-align: right;\n",
       "    }\n",
       "</style>\n",
       "<table border=\"1\" class=\"dataframe\">\n",
       "  <thead>\n",
       "    <tr style=\"text-align: right;\">\n",
       "      <th></th>\n",
       "      <th>text</th>\n",
       "      <th>ouput</th>\n",
       "    </tr>\n",
       "  </thead>\n",
       "  <tbody>\n",
       "    <tr>\n",
       "      <th>0</th>\n",
       "      <td>anshul posts instagram</td>\n",
       "      <td>1</td>\n",
       "    </tr>\n",
       "    <tr>\n",
       "      <th>1</th>\n",
       "      <td>instagram posts post</td>\n",
       "      <td>1</td>\n",
       "    </tr>\n",
       "    <tr>\n",
       "      <th>2</th>\n",
       "      <td>anshul instagram post</td>\n",
       "      <td>0</td>\n",
       "    </tr>\n",
       "    <tr>\n",
       "      <th>3</th>\n",
       "      <td>post liked instagram</td>\n",
       "      <td>0</td>\n",
       "    </tr>\n",
       "    <tr>\n",
       "      <th>4</th>\n",
       "      <td>liked instagram post</td>\n",
       "      <td>1</td>\n",
       "    </tr>\n",
       "  </tbody>\n",
       "</table>\n",
       "</div>"
      ],
      "text/plain": [
       "                     text  ouput\n",
       "0  anshul posts instagram      1\n",
       "1    instagram posts post      1\n",
       "2   anshul instagram post      0\n",
       "3    post liked instagram      0\n",
       "4    liked instagram post      1"
      ]
     },
     "execution_count": 4,
     "metadata": {},
     "output_type": "execute_result"
    }
   ],
   "source": [
    "dataset = pd.DataFrame({'text' : ['anshul posts instagram', 'instagram posts post', 'anshul instagram post', 'post liked instagram', 'liked instagram post'], 'ouput': [1,1,0,0,1]})\n",
    "dataset"
   ]
  },
  {
   "cell_type": "markdown",
   "id": "9e1f3c5b",
   "metadata": {},
   "source": [
    "#### Implementing Bag of Words using Count Vectorizer class"
   ]
  },
  {
   "cell_type": "code",
   "execution_count": 6,
   "id": "42c6926f",
   "metadata": {},
   "outputs": [],
   "source": [
    "from sklearn.feature_extraction.text import CountVectorizer\n",
    "vectorizer = CountVectorizer()"
   ]
  },
  {
   "cell_type": "code",
   "execution_count": 7,
   "id": "a3bced6c",
   "metadata": {},
   "outputs": [],
   "source": [
    "x = vectorizer.fit_transform(dataset['text'])"
   ]
  },
  {
   "cell_type": "markdown",
   "id": "5e801d04",
   "metadata": {},
   "source": [
    "#### Printing unique words in the dataset"
   ]
  },
  {
   "cell_type": "code",
   "execution_count": 9,
   "id": "80709c82",
   "metadata": {},
   "outputs": [
    {
     "name": "stdout",
     "output_type": "stream",
     "text": [
      "{'anshul': 0, 'posts': 4, 'instagram': 1, 'post': 3, 'liked': 2}\n"
     ]
    }
   ],
   "source": [
    "print(vectorizer.vocabulary_)"
   ]
  },
  {
   "cell_type": "code",
   "execution_count": 10,
   "id": "56188de8",
   "metadata": {},
   "outputs": [
    {
     "name": "stdout",
     "output_type": "stream",
     "text": [
      "[[1 1 0 0 1]]\n",
      "[[0 1 0 1 1]]\n"
     ]
    }
   ],
   "source": [
    "print(x[0].toarray())\n",
    "print(x[1].toarray())"
   ]
  },
  {
   "cell_type": "code",
   "execution_count": 11,
   "id": "270c7487",
   "metadata": {},
   "outputs": [
    {
     "data": {
      "text/plain": [
       "array([[2, 2, 1, 1, 1]], dtype=int64)"
      ]
     },
     "execution_count": 11,
     "metadata": {},
     "output_type": "execute_result"
    }
   ],
   "source": [
    "vectorizer.transform([\"anshul posts instagram instagram liked anshul post\"]).toarray()"
   ]
  }
 ],
 "metadata": {
  "kernelspec": {
   "display_name": "Python 3 (ipykernel)",
   "language": "python",
   "name": "python3"
  },
  "language_info": {
   "codemirror_mode": {
    "name": "ipython",
    "version": 3
   },
   "file_extension": ".py",
   "mimetype": "text/x-python",
   "name": "python",
   "nbconvert_exporter": "python",
   "pygments_lexer": "ipython3",
   "version": "3.9.13"
  }
 },
 "nbformat": 4,
 "nbformat_minor": 5
}
