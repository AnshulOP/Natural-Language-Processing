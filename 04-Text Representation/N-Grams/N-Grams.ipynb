{
 "cells": [
  {
   "cell_type": "markdown",
   "id": "7b6cac21",
   "metadata": {},
   "source": [
    "#### Importing the Libraries"
   ]
  },
  {
   "cell_type": "code",
   "execution_count": 1,
   "id": "cbb2afc9",
   "metadata": {},
   "outputs": [],
   "source": [
    "import nltk\n",
    "from nltk import ngrams"
   ]
  },
  {
   "cell_type": "markdown",
   "id": "f6071f9a",
   "metadata": {},
   "source": [
    "### 1. With NLTK Library"
   ]
  },
  {
   "cell_type": "markdown",
   "id": "1f3a329d",
   "metadata": {},
   "source": [
    "#### Defining N-Grams function"
   ]
  },
  {
   "cell_type": "code",
   "execution_count": 2,
   "id": "fc2850a0",
   "metadata": {},
   "outputs": [],
   "source": [
    "def generate_ngrams(text, n):\n",
    "    # Tokenize the text into words\n",
    "    tokens = nltk.word_tokenize(text)\n",
    "    # Generate the n-grams using the ngrams function\n",
    "    ngram_list = list(ngrams(tokens, n))\n",
    "    # Convert the n-grams to strings\n",
    "    ngram_strings = [' '.join(gram) for gram in ngram_list]\n",
    "    return ngram_strings"
   ]
  },
  {
   "cell_type": "markdown",
   "id": "375f8790",
   "metadata": {},
   "source": [
    "#### Result"
   ]
  },
  {
   "cell_type": "code",
   "execution_count": 3,
   "id": "fdec32d3",
   "metadata": {},
   "outputs": [
    {
     "name": "stdout",
     "output_type": "stream",
     "text": [
      "['anshul posts an', 'posts an instagram', 'an instagram post', 'instagram post and', 'post and instagram', 'and instagram liked', 'instagram liked anshul', 'liked anshul post']\n"
     ]
    }
   ],
   "source": [
    "text = \"anshul posts an instagram post and instagram liked anshul post\"\n",
    "ngrams = generate_ngrams(text, 3)\n",
    "print(ngrams)"
   ]
  },
  {
   "cell_type": "markdown",
   "id": "7ddc6b4d",
   "metadata": {},
   "source": [
    "### 2. Without NLTK Library"
   ]
  },
  {
   "cell_type": "markdown",
   "id": "a366afb0",
   "metadata": {},
   "source": [
    "#### Defining N-Grams function"
   ]
  },
  {
   "cell_type": "code",
   "execution_count": 4,
   "id": "42004ca3",
   "metadata": {},
   "outputs": [],
   "source": [
    "def generate_ngrams2(text, n):\n",
    "    # Split the text into words\n",
    "    words = text.split()\n",
    "    # Initialize an empty list to store the n-grams\n",
    "    ngrams = []\n",
    "    # Loop through the words to generate n-grams\n",
    "    for i in range(len(words) - n + 1):\n",
    "        # Concatenate n words into an n-gram\n",
    "        # The `i:i+n` slice notation selects a slice of `n` words starting at index `i`\n",
    "        ngram = ' '.join(words[i:i+n])\n",
    "        # Add the n-gram to the list of n-grams\n",
    "        ngrams.append(ngram)\n",
    "    # Return the list of n-grams\n",
    "    return ngrams"
   ]
  },
  {
   "cell_type": "code",
   "execution_count": 5,
   "id": "4ae52fac",
   "metadata": {},
   "outputs": [
    {
     "name": "stdout",
     "output_type": "stream",
     "text": [
      "['anshul posts an', 'posts an instagram', 'an instagram post', 'instagram post and', 'post and instagram', 'and instagram liked', 'instagram liked anshul', 'liked anshul post']\n"
     ]
    }
   ],
   "source": [
    "text = \"anshul posts an instagram post and instagram liked anshul post\"\n",
    "ngrams = generate_ngrams2(text, 3)\n",
    "print(ngrams)"
   ]
  }
 ],
 "metadata": {
  "kernelspec": {
   "display_name": "Python 3 (ipykernel)",
   "language": "python",
   "name": "python3"
  },
  "language_info": {
   "codemirror_mode": {
    "name": "ipython",
    "version": 3
   },
   "file_extension": ".py",
   "mimetype": "text/x-python",
   "name": "python",
   "nbconvert_exporter": "python",
   "pygments_lexer": "ipython3",
   "version": "3.9.13"
  }
 },
 "nbformat": 4,
 "nbformat_minor": 5
}
