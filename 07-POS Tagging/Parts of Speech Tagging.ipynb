{
 "cells": [
  {
   "cell_type": "markdown",
   "id": "6ddaa93b",
   "metadata": {},
   "source": [
    "#### Importing the Libraries"
   ]
  },
  {
   "cell_type": "code",
   "execution_count": 1,
   "id": "f9d364da",
   "metadata": {},
   "outputs": [],
   "source": [
    "import spacy"
   ]
  },
  {
   "cell_type": "markdown",
   "id": "79506126",
   "metadata": {},
   "source": [
    "#### Importing english language dictionary"
   ]
  },
  {
   "cell_type": "code",
   "execution_count": 2,
   "id": "e0995f56",
   "metadata": {},
   "outputs": [],
   "source": [
    "# Load the English language model from spaCy\n",
    "nlp = spacy.load('en_core_web_sm')"
   ]
  },
  {
   "cell_type": "markdown",
   "id": "1fda64f5",
   "metadata": {},
   "source": [
    "#### Creating a document text"
   ]
  },
  {
   "cell_type": "code",
   "execution_count": 3,
   "id": "efcd023f",
   "metadata": {},
   "outputs": [],
   "source": [
    "doc = nlp(\"I will google about facebook today for my project work\")"
   ]
  },
  {
   "cell_type": "code",
   "execution_count": 4,
   "id": "217a69bb",
   "metadata": {},
   "outputs": [
    {
     "data": {
      "text/plain": [
       "'I will google about facebook today for my project work'"
      ]
     },
     "execution_count": 4,
     "metadata": {},
     "output_type": "execute_result"
    }
   ],
   "source": [
    "doc.text"
   ]
  },
  {
   "cell_type": "markdown",
   "id": "41d824f7",
   "metadata": {},
   "source": [
    "#### Course grained POS"
   ]
  },
  {
   "cell_type": "code",
   "execution_count": 5,
   "id": "9555163e",
   "metadata": {},
   "outputs": [
    {
     "data": {
      "text/plain": [
       "'ADP'"
      ]
     },
     "execution_count": 5,
     "metadata": {},
     "output_type": "execute_result"
    }
   ],
   "source": [
    "# Retrieve the coarse-grained part-of-speech tag of the fourth token in the document\n",
    "doc[3].pos_  # Retrieves the coarse-grained part-of-speech tag of the token at index 3"
   ]
  },
  {
   "cell_type": "markdown",
   "id": "a12f6a49",
   "metadata": {},
   "source": [
    "#### Fine grained POS"
   ]
  },
  {
   "cell_type": "code",
   "execution_count": 6,
   "id": "c346c8a7",
   "metadata": {},
   "outputs": [
    {
     "data": {
      "text/plain": [
       "'PRP$'"
      ]
     },
     "execution_count": 6,
     "metadata": {},
     "output_type": "execute_result"
    }
   ],
   "source": [
    "# Retrieve the fine-grained part-of-speech tag of the eighth token in the document\n",
    "doc[7].tag_  # Retrieves the fine-grained part-of-speech tag of the token at index 7"
   ]
  },
  {
   "cell_type": "markdown",
   "id": "feafc054",
   "metadata": {},
   "source": [
    "#### Checking the representation of POS short form"
   ]
  },
  {
   "cell_type": "code",
   "execution_count": 7,
   "id": "e525c522",
   "metadata": {},
   "outputs": [
    {
     "data": {
      "text/plain": [
       "'pronoun, possessive'"
      ]
     },
     "execution_count": 7,
     "metadata": {},
     "output_type": "execute_result"
    }
   ],
   "source": [
    "# Retrieve the explanation for the POS tag 'PRP$'\n",
    "spacy.explain('PRP$')  # Retrieves the explanation for the POS tag 'PRP$'"
   ]
  },
  {
   "cell_type": "markdown",
   "id": "f0bd6fd5",
   "metadata": {},
   "source": [
    "#### POS tags for each word present in the document"
   ]
  },
  {
   "cell_type": "code",
   "execution_count": 8,
   "id": "6310ddfa",
   "metadata": {},
   "outputs": [
    {
     "name": "stdout",
     "output_type": "stream",
     "text": [
      "I -----> Coarse-Grained POS: PRON , Fine-Grained POS: PRP , Explanation: pronoun, personal\n",
      "will -----> Coarse-Grained POS: AUX , Fine-Grained POS: MD , Explanation: verb, modal auxiliary\n",
      "google -----> Coarse-Grained POS: VERB , Fine-Grained POS: VB , Explanation: verb, base form\n",
      "about -----> Coarse-Grained POS: ADP , Fine-Grained POS: IN , Explanation: conjunction, subordinating or preposition\n",
      "facebook -----> Coarse-Grained POS: NOUN , Fine-Grained POS: NN , Explanation: noun, singular or mass\n",
      "today -----> Coarse-Grained POS: NOUN , Fine-Grained POS: NN , Explanation: noun, singular or mass\n",
      "for -----> Coarse-Grained POS: ADP , Fine-Grained POS: IN , Explanation: conjunction, subordinating or preposition\n",
      "my -----> Coarse-Grained POS: PRON , Fine-Grained POS: PRP$ , Explanation: pronoun, possessive\n",
      "project -----> Coarse-Grained POS: NOUN , Fine-Grained POS: NN , Explanation: noun, singular or mass\n",
      "work -----> Coarse-Grained POS: NOUN , Fine-Grained POS: NN , Explanation: noun, singular or mass\n"
     ]
    }
   ],
   "source": [
    "# Iterate over each word in the document\n",
    "for word in doc:\n",
    "    # Print the word, coarse-grained POS, fine-grained POS, and the explanation of the POS tag\n",
    "    print(word.text, \"----->\", \"Coarse-Grained POS:\", word.pos_, \", Fine-Grained POS:\", word.tag_, \", Explanation:\", spacy.explain(word.tag_))"
   ]
  },
  {
   "cell_type": "markdown",
   "id": "5ff2275b",
   "metadata": {},
   "source": [
    "#### Testing word disambiguities using POS tagging"
   ]
  },
  {
   "cell_type": "code",
   "execution_count": 9,
   "id": "e7f4d31b",
   "metadata": {},
   "outputs": [],
   "source": [
    "# In these three examples we can clearly see how 'bat' word is being assigned POS tag according to its use and meaning in sentence."
   ]
  },
  {
   "cell_type": "code",
   "execution_count": 10,
   "id": "97d3f705",
   "metadata": {},
   "outputs": [
    {
     "name": "stdout",
     "output_type": "stream",
     "text": [
      "She -----> Coarse-Grained POS: PRON , Fine-Grained POS: PRP , Explanation: pronoun, personal\n",
      "saw -----> Coarse-Grained POS: VERB , Fine-Grained POS: VBD , Explanation: verb, past tense\n",
      "a -----> Coarse-Grained POS: DET , Fine-Grained POS: DT , Explanation: determiner\n",
      "bat -----> Coarse-Grained POS: NOUN , Fine-Grained POS: NN , Explanation: noun, singular or mass\n",
      "flying -----> Coarse-Grained POS: VERB , Fine-Grained POS: VBG , Explanation: verb, gerund or present participle\n",
      "in -----> Coarse-Grained POS: ADP , Fine-Grained POS: IN , Explanation: conjunction, subordinating or preposition\n",
      "the -----> Coarse-Grained POS: DET , Fine-Grained POS: DT , Explanation: determiner\n",
      "sky -----> Coarse-Grained POS: NOUN , Fine-Grained POS: NN , Explanation: noun, singular or mass\n"
     ]
    }
   ],
   "source": [
    "doc2 = nlp(u\"She saw a bat flying in the sky\")\n",
    "for word in doc2:\n",
    "    # Print the word, coarse-grained POS, fine-grained POS, and the explanation of the POS tag\n",
    "    print(word.text, \"----->\", \"Coarse-Grained POS:\", word.pos_, \", Fine-Grained POS:\", word.tag_, \", Explanation:\", spacy.explain(word.tag_))"
   ]
  },
  {
   "cell_type": "code",
   "execution_count": 11,
   "id": "3f0a5c3f",
   "metadata": {},
   "outputs": [
    {
     "name": "stdout",
     "output_type": "stream",
     "text": [
      "She -----> Coarse-Grained POS: PRON , Fine-Grained POS: PRP , Explanation: pronoun, personal\n",
      "knows -----> Coarse-Grained POS: VERB , Fine-Grained POS: VBZ , Explanation: verb, 3rd person singular present\n",
      "how -----> Coarse-Grained POS: SCONJ , Fine-Grained POS: WRB , Explanation: wh-adverb\n",
      "to -----> Coarse-Grained POS: PART , Fine-Grained POS: TO , Explanation: infinitival \"to\"\n",
      "bat -----> Coarse-Grained POS: VERB , Fine-Grained POS: VB , Explanation: verb, base form\n",
      "properly -----> Coarse-Grained POS: ADV , Fine-Grained POS: RB , Explanation: adverb\n"
     ]
    }
   ],
   "source": [
    "doc3 = nlp(u\"She knows how to bat properly\")\n",
    "for word in doc3:\n",
    "    # Print the word, coarse-grained POS, fine-grained POS, and the explanation of the POS tag\n",
    "    print(word.text, \"----->\", \"Coarse-Grained POS:\", word.pos_, \", Fine-Grained POS:\", word.tag_, \", Explanation:\", spacy.explain(word.tag_))"
   ]
  },
  {
   "cell_type": "code",
   "execution_count": 12,
   "id": "51cdc50d",
   "metadata": {},
   "outputs": [
    {
     "name": "stdout",
     "output_type": "stream",
     "text": [
      "She -----> Coarse-Grained POS: PRON , Fine-Grained POS: PRP , Explanation: pronoun, personal\n",
      "has -----> Coarse-Grained POS: VERB , Fine-Grained POS: VBZ , Explanation: verb, 3rd person singular present\n",
      "a -----> Coarse-Grained POS: DET , Fine-Grained POS: DT , Explanation: determiner\n",
      "really -----> Coarse-Grained POS: ADV , Fine-Grained POS: RB , Explanation: adverb\n",
      "awesome -----> Coarse-Grained POS: ADJ , Fine-Grained POS: JJ , Explanation: adjective (English), other noun-modifier (Chinese)\n",
      "bat -----> Coarse-Grained POS: NOUN , Fine-Grained POS: NN , Explanation: noun, singular or mass\n",
      "to -----> Coarse-Grained POS: PART , Fine-Grained POS: TO , Explanation: infinitival \"to\"\n",
      "play -----> Coarse-Grained POS: VERB , Fine-Grained POS: VB , Explanation: verb, base form\n",
      "with -----> Coarse-Grained POS: ADP , Fine-Grained POS: IN , Explanation: conjunction, subordinating or preposition\n"
     ]
    }
   ],
   "source": [
    "doc4 = nlp(u\"She has a really awesome bat to play with\")\n",
    "for word in doc4:\n",
    "    # Print the word, coarse-grained POS, fine-grained POS, and the explanation of the POS tag\n",
    "    print(word.text, \"----->\", \"Coarse-Grained POS:\", word.pos_, \", Fine-Grained POS:\", word.tag_, \", Explanation:\", spacy.explain(word.tag_))"
   ]
  },
  {
   "cell_type": "markdown",
   "id": "956f66fe",
   "metadata": {},
   "source": [
    "#### Testing past and present sentences"
   ]
  },
  {
   "cell_type": "code",
   "execution_count": 13,
   "id": "ba7c4c19",
   "metadata": {},
   "outputs": [],
   "source": [
    "# In these two examples we can clearly see how 'read' word is being assigned POS tag according to its tense."
   ]
  },
  {
   "cell_type": "code",
   "execution_count": 14,
   "id": "4ae651ad",
   "metadata": {},
   "outputs": [
    {
     "name": "stdout",
     "output_type": "stream",
     "text": [
      "I -----> Coarse-Grained POS: PRON , Fine-Grained POS: PRP , Explanation: pronoun, personal\n",
      "have -----> Coarse-Grained POS: AUX , Fine-Grained POS: VBP , Explanation: verb, non-3rd person singular present\n",
      "read -----> Coarse-Grained POS: VERB , Fine-Grained POS: VBN , Explanation: verb, past participle\n",
      "a -----> Coarse-Grained POS: DET , Fine-Grained POS: DT , Explanation: determiner\n",
      "book -----> Coarse-Grained POS: NOUN , Fine-Grained POS: NN , Explanation: noun, singular or mass\n",
      "on -----> Coarse-Grained POS: ADP , Fine-Grained POS: IN , Explanation: conjunction, subordinating or preposition\n",
      "history -----> Coarse-Grained POS: NOUN , Fine-Grained POS: NN , Explanation: noun, singular or mass\n"
     ]
    }
   ],
   "source": [
    "doc5 = nlp(u\"I have read a book on history\")\n",
    "for word in doc5:\n",
    "    # Print the word, coarse-grained POS, fine-grained POS, and the explanation of the POS tag\n",
    "    print(word.text, \"----->\", \"Coarse-Grained POS:\", word.pos_, \", Fine-Grained POS:\", word.tag_, \", Explanation:\", spacy.explain(word.tag_))"
   ]
  },
  {
   "cell_type": "code",
   "execution_count": 15,
   "id": "1de19f59",
   "metadata": {},
   "outputs": [
    {
     "name": "stdout",
     "output_type": "stream",
     "text": [
      "I -----> Coarse-Grained POS: PRON , Fine-Grained POS: PRP , Explanation: pronoun, personal\n",
      "read -----> Coarse-Grained POS: VERB , Fine-Grained POS: VBD , Explanation: verb, past tense\n",
      "a -----> Coarse-Grained POS: DET , Fine-Grained POS: DT , Explanation: determiner\n",
      "book -----> Coarse-Grained POS: NOUN , Fine-Grained POS: NN , Explanation: noun, singular or mass\n",
      "on -----> Coarse-Grained POS: ADP , Fine-Grained POS: IN , Explanation: conjunction, subordinating or preposition\n",
      "history -----> Coarse-Grained POS: NOUN , Fine-Grained POS: NN , Explanation: noun, singular or mass\n"
     ]
    }
   ],
   "source": [
    "doc6 = nlp(u\"I read a book on history\")\n",
    "for word in doc6:\n",
    "    # Print the word, coarse-grained POS, fine-grained POS, and the explanation of the POS tag\n",
    "    print(word.text, \"----->\", \"Coarse-Grained POS:\", word.pos_, \", Fine-Grained POS:\", word.tag_, \", Explanation:\", spacy.explain(word.tag_))"
   ]
  },
  {
   "cell_type": "markdown",
   "id": "233bd971",
   "metadata": {},
   "source": [
    "#### Visualising POS Tagging"
   ]
  },
  {
   "cell_type": "code",
   "execution_count": 16,
   "id": "a4e45b7c",
   "metadata": {},
   "outputs": [],
   "source": [
    "from spacy import displacy"
   ]
  },
  {
   "cell_type": "code",
   "execution_count": 17,
   "id": "14e8db33",
   "metadata": {},
   "outputs": [
    {
     "data": {
      "text/html": [
       "<span class=\"tex2jax_ignore\"><svg xmlns=\"http://www.w3.org/2000/svg\" xmlns:xlink=\"http://www.w3.org/1999/xlink\" xml:lang=\"en\" id=\"4cd2ee1a57924227b1afb7ea26185401-0\" class=\"displacy\" width=\"1625\" height=\"399.5\" direction=\"ltr\" style=\"max-width: none; height: 399.5px; color: #000000; background: #ffffff; font-family: Arial; direction: ltr\">\n",
       "<text class=\"displacy-token\" fill=\"currentColor\" text-anchor=\"middle\" y=\"309.5\">\n",
       "    <tspan class=\"displacy-word\" fill=\"currentColor\" x=\"50\">The</tspan>\n",
       "    <tspan class=\"displacy-tag\" dy=\"2em\" fill=\"currentColor\" x=\"50\">DET</tspan>\n",
       "</text>\n",
       "\n",
       "<text class=\"displacy-token\" fill=\"currentColor\" text-anchor=\"middle\" y=\"309.5\">\n",
       "    <tspan class=\"displacy-word\" fill=\"currentColor\" x=\"225\">quick</tspan>\n",
       "    <tspan class=\"displacy-tag\" dy=\"2em\" fill=\"currentColor\" x=\"225\">ADJ</tspan>\n",
       "</text>\n",
       "\n",
       "<text class=\"displacy-token\" fill=\"currentColor\" text-anchor=\"middle\" y=\"309.5\">\n",
       "    <tspan class=\"displacy-word\" fill=\"currentColor\" x=\"400\">brown</tspan>\n",
       "    <tspan class=\"displacy-tag\" dy=\"2em\" fill=\"currentColor\" x=\"400\">ADJ</tspan>\n",
       "</text>\n",
       "\n",
       "<text class=\"displacy-token\" fill=\"currentColor\" text-anchor=\"middle\" y=\"309.5\">\n",
       "    <tspan class=\"displacy-word\" fill=\"currentColor\" x=\"575\">fox</tspan>\n",
       "    <tspan class=\"displacy-tag\" dy=\"2em\" fill=\"currentColor\" x=\"575\">NOUN</tspan>\n",
       "</text>\n",
       "\n",
       "<text class=\"displacy-token\" fill=\"currentColor\" text-anchor=\"middle\" y=\"309.5\">\n",
       "    <tspan class=\"displacy-word\" fill=\"currentColor\" x=\"750\">jumped</tspan>\n",
       "    <tspan class=\"displacy-tag\" dy=\"2em\" fill=\"currentColor\" x=\"750\">VERB</tspan>\n",
       "</text>\n",
       "\n",
       "<text class=\"displacy-token\" fill=\"currentColor\" text-anchor=\"middle\" y=\"309.5\">\n",
       "    <tspan class=\"displacy-word\" fill=\"currentColor\" x=\"925\">over</tspan>\n",
       "    <tspan class=\"displacy-tag\" dy=\"2em\" fill=\"currentColor\" x=\"925\">ADP</tspan>\n",
       "</text>\n",
       "\n",
       "<text class=\"displacy-token\" fill=\"currentColor\" text-anchor=\"middle\" y=\"309.5\">\n",
       "    <tspan class=\"displacy-word\" fill=\"currentColor\" x=\"1100\">the</tspan>\n",
       "    <tspan class=\"displacy-tag\" dy=\"2em\" fill=\"currentColor\" x=\"1100\">DET</tspan>\n",
       "</text>\n",
       "\n",
       "<text class=\"displacy-token\" fill=\"currentColor\" text-anchor=\"middle\" y=\"309.5\">\n",
       "    <tspan class=\"displacy-word\" fill=\"currentColor\" x=\"1275\">lazy</tspan>\n",
       "    <tspan class=\"displacy-tag\" dy=\"2em\" fill=\"currentColor\" x=\"1275\">ADJ</tspan>\n",
       "</text>\n",
       "\n",
       "<text class=\"displacy-token\" fill=\"currentColor\" text-anchor=\"middle\" y=\"309.5\">\n",
       "    <tspan class=\"displacy-word\" fill=\"currentColor\" x=\"1450\">dog</tspan>\n",
       "    <tspan class=\"displacy-tag\" dy=\"2em\" fill=\"currentColor\" x=\"1450\">NOUN</tspan>\n",
       "</text>\n",
       "\n",
       "<g class=\"displacy-arrow\">\n",
       "    <path class=\"displacy-arc\" id=\"arrow-4cd2ee1a57924227b1afb7ea26185401-0-0\" stroke-width=\"2px\" d=\"M70,264.5 C70,2.0 575.0,2.0 575.0,264.5\" fill=\"none\" stroke=\"currentColor\"/>\n",
       "    <text dy=\"1.25em\" style=\"font-size: 0.8em; letter-spacing: 1px\">\n",
       "        <textPath xlink:href=\"#arrow-4cd2ee1a57924227b1afb7ea26185401-0-0\" class=\"displacy-label\" startOffset=\"50%\" side=\"left\" fill=\"currentColor\" text-anchor=\"middle\">det</textPath>\n",
       "    </text>\n",
       "    <path class=\"displacy-arrowhead\" d=\"M70,266.5 L62,254.5 78,254.5\" fill=\"currentColor\"/>\n",
       "</g>\n",
       "\n",
       "<g class=\"displacy-arrow\">\n",
       "    <path class=\"displacy-arc\" id=\"arrow-4cd2ee1a57924227b1afb7ea26185401-0-1\" stroke-width=\"2px\" d=\"M245,264.5 C245,89.5 570.0,89.5 570.0,264.5\" fill=\"none\" stroke=\"currentColor\"/>\n",
       "    <text dy=\"1.25em\" style=\"font-size: 0.8em; letter-spacing: 1px\">\n",
       "        <textPath xlink:href=\"#arrow-4cd2ee1a57924227b1afb7ea26185401-0-1\" class=\"displacy-label\" startOffset=\"50%\" side=\"left\" fill=\"currentColor\" text-anchor=\"middle\">amod</textPath>\n",
       "    </text>\n",
       "    <path class=\"displacy-arrowhead\" d=\"M245,266.5 L237,254.5 253,254.5\" fill=\"currentColor\"/>\n",
       "</g>\n",
       "\n",
       "<g class=\"displacy-arrow\">\n",
       "    <path class=\"displacy-arc\" id=\"arrow-4cd2ee1a57924227b1afb7ea26185401-0-2\" stroke-width=\"2px\" d=\"M420,264.5 C420,177.0 565.0,177.0 565.0,264.5\" fill=\"none\" stroke=\"currentColor\"/>\n",
       "    <text dy=\"1.25em\" style=\"font-size: 0.8em; letter-spacing: 1px\">\n",
       "        <textPath xlink:href=\"#arrow-4cd2ee1a57924227b1afb7ea26185401-0-2\" class=\"displacy-label\" startOffset=\"50%\" side=\"left\" fill=\"currentColor\" text-anchor=\"middle\">amod</textPath>\n",
       "    </text>\n",
       "    <path class=\"displacy-arrowhead\" d=\"M420,266.5 L412,254.5 428,254.5\" fill=\"currentColor\"/>\n",
       "</g>\n",
       "\n",
       "<g class=\"displacy-arrow\">\n",
       "    <path class=\"displacy-arc\" id=\"arrow-4cd2ee1a57924227b1afb7ea26185401-0-3\" stroke-width=\"2px\" d=\"M595,264.5 C595,177.0 740.0,177.0 740.0,264.5\" fill=\"none\" stroke=\"currentColor\"/>\n",
       "    <text dy=\"1.25em\" style=\"font-size: 0.8em; letter-spacing: 1px\">\n",
       "        <textPath xlink:href=\"#arrow-4cd2ee1a57924227b1afb7ea26185401-0-3\" class=\"displacy-label\" startOffset=\"50%\" side=\"left\" fill=\"currentColor\" text-anchor=\"middle\">nsubj</textPath>\n",
       "    </text>\n",
       "    <path class=\"displacy-arrowhead\" d=\"M595,266.5 L587,254.5 603,254.5\" fill=\"currentColor\"/>\n",
       "</g>\n",
       "\n",
       "<g class=\"displacy-arrow\">\n",
       "    <path class=\"displacy-arc\" id=\"arrow-4cd2ee1a57924227b1afb7ea26185401-0-4\" stroke-width=\"2px\" d=\"M770,264.5 C770,177.0 915.0,177.0 915.0,264.5\" fill=\"none\" stroke=\"currentColor\"/>\n",
       "    <text dy=\"1.25em\" style=\"font-size: 0.8em; letter-spacing: 1px\">\n",
       "        <textPath xlink:href=\"#arrow-4cd2ee1a57924227b1afb7ea26185401-0-4\" class=\"displacy-label\" startOffset=\"50%\" side=\"left\" fill=\"currentColor\" text-anchor=\"middle\">prep</textPath>\n",
       "    </text>\n",
       "    <path class=\"displacy-arrowhead\" d=\"M915.0,266.5 L923.0,254.5 907.0,254.5\" fill=\"currentColor\"/>\n",
       "</g>\n",
       "\n",
       "<g class=\"displacy-arrow\">\n",
       "    <path class=\"displacy-arc\" id=\"arrow-4cd2ee1a57924227b1afb7ea26185401-0-5\" stroke-width=\"2px\" d=\"M1120,264.5 C1120,89.5 1445.0,89.5 1445.0,264.5\" fill=\"none\" stroke=\"currentColor\"/>\n",
       "    <text dy=\"1.25em\" style=\"font-size: 0.8em; letter-spacing: 1px\">\n",
       "        <textPath xlink:href=\"#arrow-4cd2ee1a57924227b1afb7ea26185401-0-5\" class=\"displacy-label\" startOffset=\"50%\" side=\"left\" fill=\"currentColor\" text-anchor=\"middle\">det</textPath>\n",
       "    </text>\n",
       "    <path class=\"displacy-arrowhead\" d=\"M1120,266.5 L1112,254.5 1128,254.5\" fill=\"currentColor\"/>\n",
       "</g>\n",
       "\n",
       "<g class=\"displacy-arrow\">\n",
       "    <path class=\"displacy-arc\" id=\"arrow-4cd2ee1a57924227b1afb7ea26185401-0-6\" stroke-width=\"2px\" d=\"M1295,264.5 C1295,177.0 1440.0,177.0 1440.0,264.5\" fill=\"none\" stroke=\"currentColor\"/>\n",
       "    <text dy=\"1.25em\" style=\"font-size: 0.8em; letter-spacing: 1px\">\n",
       "        <textPath xlink:href=\"#arrow-4cd2ee1a57924227b1afb7ea26185401-0-6\" class=\"displacy-label\" startOffset=\"50%\" side=\"left\" fill=\"currentColor\" text-anchor=\"middle\">amod</textPath>\n",
       "    </text>\n",
       "    <path class=\"displacy-arrowhead\" d=\"M1295,266.5 L1287,254.5 1303,254.5\" fill=\"currentColor\"/>\n",
       "</g>\n",
       "\n",
       "<g class=\"displacy-arrow\">\n",
       "    <path class=\"displacy-arc\" id=\"arrow-4cd2ee1a57924227b1afb7ea26185401-0-7\" stroke-width=\"2px\" d=\"M945,264.5 C945,2.0 1450.0,2.0 1450.0,264.5\" fill=\"none\" stroke=\"currentColor\"/>\n",
       "    <text dy=\"1.25em\" style=\"font-size: 0.8em; letter-spacing: 1px\">\n",
       "        <textPath xlink:href=\"#arrow-4cd2ee1a57924227b1afb7ea26185401-0-7\" class=\"displacy-label\" startOffset=\"50%\" side=\"left\" fill=\"currentColor\" text-anchor=\"middle\">pobj</textPath>\n",
       "    </text>\n",
       "    <path class=\"displacy-arrowhead\" d=\"M1450.0,266.5 L1458.0,254.5 1442.0,254.5\" fill=\"currentColor\"/>\n",
       "</g>\n",
       "</svg></span>"
      ],
      "text/plain": [
       "<IPython.core.display.HTML object>"
      ]
     },
     "metadata": {},
     "output_type": "display_data"
    }
   ],
   "source": [
    "doc7 = nlp(u\"The quick brown fox jumped over the lazy dog\")\n",
    "displacy.render(doc7, style = 'dep', jupyter = True)"
   ]
  },
  {
   "cell_type": "markdown",
   "id": "f2f9b117",
   "metadata": {},
   "source": [
    "#### Customizing the visualisation"
   ]
  },
  {
   "cell_type": "code",
   "execution_count": 18,
   "id": "c1a6361c",
   "metadata": {},
   "outputs": [],
   "source": [
    "options = {\n",
    "    'distance' : 90,\n",
    "    'compact' : True,\n",
    "    'color' : '#fff',\n",
    "    'bg' : '#ed855f'\n",
    "}"
   ]
  },
  {
   "cell_type": "code",
   "execution_count": 19,
   "id": "4aee7c1a",
   "metadata": {},
   "outputs": [
    {
     "data": {
      "text/html": [
       "<span class=\"tex2jax_ignore\"><svg xmlns=\"http://www.w3.org/2000/svg\" xmlns:xlink=\"http://www.w3.org/1999/xlink\" xml:lang=\"en\" id=\"d10cb43ee502444c85ecb55e9772a7a8-0\" class=\"displacy\" width=\"860\" height=\"272.0\" direction=\"ltr\" style=\"max-width: none; height: 272.0px; color: #fff; background: #ed855f; font-family: Arial; direction: ltr\">\n",
       "<text class=\"displacy-token\" fill=\"currentColor\" text-anchor=\"middle\" y=\"182.0\">\n",
       "    <tspan class=\"displacy-word\" fill=\"currentColor\" x=\"50\">The</tspan>\n",
       "    <tspan class=\"displacy-tag\" dy=\"2em\" fill=\"currentColor\" x=\"50\">DET</tspan>\n",
       "</text>\n",
       "\n",
       "<text class=\"displacy-token\" fill=\"currentColor\" text-anchor=\"middle\" y=\"182.0\">\n",
       "    <tspan class=\"displacy-word\" fill=\"currentColor\" x=\"140\">quick</tspan>\n",
       "    <tspan class=\"displacy-tag\" dy=\"2em\" fill=\"currentColor\" x=\"140\">ADJ</tspan>\n",
       "</text>\n",
       "\n",
       "<text class=\"displacy-token\" fill=\"currentColor\" text-anchor=\"middle\" y=\"182.0\">\n",
       "    <tspan class=\"displacy-word\" fill=\"currentColor\" x=\"230\">brown</tspan>\n",
       "    <tspan class=\"displacy-tag\" dy=\"2em\" fill=\"currentColor\" x=\"230\">ADJ</tspan>\n",
       "</text>\n",
       "\n",
       "<text class=\"displacy-token\" fill=\"currentColor\" text-anchor=\"middle\" y=\"182.0\">\n",
       "    <tspan class=\"displacy-word\" fill=\"currentColor\" x=\"320\">fox</tspan>\n",
       "    <tspan class=\"displacy-tag\" dy=\"2em\" fill=\"currentColor\" x=\"320\">NOUN</tspan>\n",
       "</text>\n",
       "\n",
       "<text class=\"displacy-token\" fill=\"currentColor\" text-anchor=\"middle\" y=\"182.0\">\n",
       "    <tspan class=\"displacy-word\" fill=\"currentColor\" x=\"410\">jumped</tspan>\n",
       "    <tspan class=\"displacy-tag\" dy=\"2em\" fill=\"currentColor\" x=\"410\">VERB</tspan>\n",
       "</text>\n",
       "\n",
       "<text class=\"displacy-token\" fill=\"currentColor\" text-anchor=\"middle\" y=\"182.0\">\n",
       "    <tspan class=\"displacy-word\" fill=\"currentColor\" x=\"500\">over</tspan>\n",
       "    <tspan class=\"displacy-tag\" dy=\"2em\" fill=\"currentColor\" x=\"500\">ADP</tspan>\n",
       "</text>\n",
       "\n",
       "<text class=\"displacy-token\" fill=\"currentColor\" text-anchor=\"middle\" y=\"182.0\">\n",
       "    <tspan class=\"displacy-word\" fill=\"currentColor\" x=\"590\">the</tspan>\n",
       "    <tspan class=\"displacy-tag\" dy=\"2em\" fill=\"currentColor\" x=\"590\">DET</tspan>\n",
       "</text>\n",
       "\n",
       "<text class=\"displacy-token\" fill=\"currentColor\" text-anchor=\"middle\" y=\"182.0\">\n",
       "    <tspan class=\"displacy-word\" fill=\"currentColor\" x=\"680\">lazy</tspan>\n",
       "    <tspan class=\"displacy-tag\" dy=\"2em\" fill=\"currentColor\" x=\"680\">ADJ</tspan>\n",
       "</text>\n",
       "\n",
       "<text class=\"displacy-token\" fill=\"currentColor\" text-anchor=\"middle\" y=\"182.0\">\n",
       "    <tspan class=\"displacy-word\" fill=\"currentColor\" x=\"770\">dog</tspan>\n",
       "    <tspan class=\"displacy-tag\" dy=\"2em\" fill=\"currentColor\" x=\"770\">NOUN</tspan>\n",
       "</text>\n",
       "\n",
       "<g class=\"displacy-arrow\">\n",
       "    <path class=\"displacy-arc\" id=\"arrow-d10cb43ee502444c85ecb55e9772a7a8-0-0\" stroke-width=\"2px\" d=\"M62,137.0 62,92.0 320.0,92.0 320.0,137.0\" fill=\"none\" stroke=\"currentColor\"/>\n",
       "    <text dy=\"1.25em\" style=\"font-size: 0.8em; letter-spacing: 1px\">\n",
       "        <textPath xlink:href=\"#arrow-d10cb43ee502444c85ecb55e9772a7a8-0-0\" class=\"displacy-label\" startOffset=\"50%\" side=\"left\" fill=\"currentColor\" text-anchor=\"middle\">det</textPath>\n",
       "    </text>\n",
       "    <path class=\"displacy-arrowhead\" d=\"M62,139.0 L58,131.0 66,131.0\" fill=\"currentColor\"/>\n",
       "</g>\n",
       "\n",
       "<g class=\"displacy-arrow\">\n",
       "    <path class=\"displacy-arc\" id=\"arrow-d10cb43ee502444c85ecb55e9772a7a8-0-1\" stroke-width=\"2px\" d=\"M152,137.0 152,107.0 317.0,107.0 317.0,137.0\" fill=\"none\" stroke=\"currentColor\"/>\n",
       "    <text dy=\"1.25em\" style=\"font-size: 0.8em; letter-spacing: 1px\">\n",
       "        <textPath xlink:href=\"#arrow-d10cb43ee502444c85ecb55e9772a7a8-0-1\" class=\"displacy-label\" startOffset=\"50%\" side=\"left\" fill=\"currentColor\" text-anchor=\"middle\">amod</textPath>\n",
       "    </text>\n",
       "    <path class=\"displacy-arrowhead\" d=\"M152,139.0 L148,131.0 156,131.0\" fill=\"currentColor\"/>\n",
       "</g>\n",
       "\n",
       "<g class=\"displacy-arrow\">\n",
       "    <path class=\"displacy-arc\" id=\"arrow-d10cb43ee502444c85ecb55e9772a7a8-0-2\" stroke-width=\"2px\" d=\"M242,137.0 242,122.0 314.0,122.0 314.0,137.0\" fill=\"none\" stroke=\"currentColor\"/>\n",
       "    <text dy=\"1.25em\" style=\"font-size: 0.8em; letter-spacing: 1px\">\n",
       "        <textPath xlink:href=\"#arrow-d10cb43ee502444c85ecb55e9772a7a8-0-2\" class=\"displacy-label\" startOffset=\"50%\" side=\"left\" fill=\"currentColor\" text-anchor=\"middle\">amod</textPath>\n",
       "    </text>\n",
       "    <path class=\"displacy-arrowhead\" d=\"M242,139.0 L238,131.0 246,131.0\" fill=\"currentColor\"/>\n",
       "</g>\n",
       "\n",
       "<g class=\"displacy-arrow\">\n",
       "    <path class=\"displacy-arc\" id=\"arrow-d10cb43ee502444c85ecb55e9772a7a8-0-3\" stroke-width=\"2px\" d=\"M332,137.0 332,122.0 404.0,122.0 404.0,137.0\" fill=\"none\" stroke=\"currentColor\"/>\n",
       "    <text dy=\"1.25em\" style=\"font-size: 0.8em; letter-spacing: 1px\">\n",
       "        <textPath xlink:href=\"#arrow-d10cb43ee502444c85ecb55e9772a7a8-0-3\" class=\"displacy-label\" startOffset=\"50%\" side=\"left\" fill=\"currentColor\" text-anchor=\"middle\">nsubj</textPath>\n",
       "    </text>\n",
       "    <path class=\"displacy-arrowhead\" d=\"M332,139.0 L328,131.0 336,131.0\" fill=\"currentColor\"/>\n",
       "</g>\n",
       "\n",
       "<g class=\"displacy-arrow\">\n",
       "    <path class=\"displacy-arc\" id=\"arrow-d10cb43ee502444c85ecb55e9772a7a8-0-4\" stroke-width=\"2px\" d=\"M422,137.0 422,122.0 494.0,122.0 494.0,137.0\" fill=\"none\" stroke=\"currentColor\"/>\n",
       "    <text dy=\"1.25em\" style=\"font-size: 0.8em; letter-spacing: 1px\">\n",
       "        <textPath xlink:href=\"#arrow-d10cb43ee502444c85ecb55e9772a7a8-0-4\" class=\"displacy-label\" startOffset=\"50%\" side=\"left\" fill=\"currentColor\" text-anchor=\"middle\">prep</textPath>\n",
       "    </text>\n",
       "    <path class=\"displacy-arrowhead\" d=\"M494.0,139.0 L498.0,131.0 490.0,131.0\" fill=\"currentColor\"/>\n",
       "</g>\n",
       "\n",
       "<g class=\"displacy-arrow\">\n",
       "    <path class=\"displacy-arc\" id=\"arrow-d10cb43ee502444c85ecb55e9772a7a8-0-5\" stroke-width=\"2px\" d=\"M602,137.0 602,107.0 767.0,107.0 767.0,137.0\" fill=\"none\" stroke=\"currentColor\"/>\n",
       "    <text dy=\"1.25em\" style=\"font-size: 0.8em; letter-spacing: 1px\">\n",
       "        <textPath xlink:href=\"#arrow-d10cb43ee502444c85ecb55e9772a7a8-0-5\" class=\"displacy-label\" startOffset=\"50%\" side=\"left\" fill=\"currentColor\" text-anchor=\"middle\">det</textPath>\n",
       "    </text>\n",
       "    <path class=\"displacy-arrowhead\" d=\"M602,139.0 L598,131.0 606,131.0\" fill=\"currentColor\"/>\n",
       "</g>\n",
       "\n",
       "<g class=\"displacy-arrow\">\n",
       "    <path class=\"displacy-arc\" id=\"arrow-d10cb43ee502444c85ecb55e9772a7a8-0-6\" stroke-width=\"2px\" d=\"M692,137.0 692,122.0 764.0,122.0 764.0,137.0\" fill=\"none\" stroke=\"currentColor\"/>\n",
       "    <text dy=\"1.25em\" style=\"font-size: 0.8em; letter-spacing: 1px\">\n",
       "        <textPath xlink:href=\"#arrow-d10cb43ee502444c85ecb55e9772a7a8-0-6\" class=\"displacy-label\" startOffset=\"50%\" side=\"left\" fill=\"currentColor\" text-anchor=\"middle\">amod</textPath>\n",
       "    </text>\n",
       "    <path class=\"displacy-arrowhead\" d=\"M692,139.0 L688,131.0 696,131.0\" fill=\"currentColor\"/>\n",
       "</g>\n",
       "\n",
       "<g class=\"displacy-arrow\">\n",
       "    <path class=\"displacy-arc\" id=\"arrow-d10cb43ee502444c85ecb55e9772a7a8-0-7\" stroke-width=\"2px\" d=\"M512,137.0 512,92.0 770.0,92.0 770.0,137.0\" fill=\"none\" stroke=\"currentColor\"/>\n",
       "    <text dy=\"1.25em\" style=\"font-size: 0.8em; letter-spacing: 1px\">\n",
       "        <textPath xlink:href=\"#arrow-d10cb43ee502444c85ecb55e9772a7a8-0-7\" class=\"displacy-label\" startOffset=\"50%\" side=\"left\" fill=\"currentColor\" text-anchor=\"middle\">pobj</textPath>\n",
       "    </text>\n",
       "    <path class=\"displacy-arrowhead\" d=\"M770.0,139.0 L774.0,131.0 766.0,131.0\" fill=\"currentColor\"/>\n",
       "</g>\n",
       "</svg></span>"
      ],
      "text/plain": [
       "<IPython.core.display.HTML object>"
      ]
     },
     "metadata": {},
     "output_type": "display_data"
    }
   ],
   "source": [
    "displacy.render(doc7, style = 'dep', jupyter = True, options = options)"
   ]
  }
 ],
 "metadata": {
  "kernelspec": {
   "display_name": "Python 3 (ipykernel)",
   "language": "python",
   "name": "python3"
  },
  "language_info": {
   "codemirror_mode": {
    "name": "ipython",
    "version": 3
   },
   "file_extension": ".py",
   "mimetype": "text/x-python",
   "name": "python",
   "nbconvert_exporter": "python",
   "pygments_lexer": "ipython3",
   "version": "3.9.13"
  }
 },
 "nbformat": 4,
 "nbformat_minor": 5
}
