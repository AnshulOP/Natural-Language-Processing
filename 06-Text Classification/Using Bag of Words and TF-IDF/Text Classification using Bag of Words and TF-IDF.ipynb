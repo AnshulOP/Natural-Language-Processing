{
 "cells": [
  {
   "cell_type": "markdown",
   "id": "10de5fe4",
   "metadata": {},
   "source": [
    "#### Importing the Libraries"
   ]
  },
  {
   "cell_type": "code",
   "execution_count": 1,
   "id": "adfa8a4a",
   "metadata": {},
   "outputs": [],
   "source": [
    "import numpy as np\n",
    "import pandas as pd\n",
    "import re\n",
    "from nltk.corpus import stopwords"
   ]
  },
  {
   "cell_type": "markdown",
   "id": "685e58a9",
   "metadata": {},
   "source": [
    "#### Importing the Dataset"
   ]
  },
  {
   "cell_type": "code",
   "execution_count": 2,
   "id": "f04cde82",
   "metadata": {},
   "outputs": [
    {
     "data": {
      "text/html": [
       "<div>\n",
       "<style scoped>\n",
       "    .dataframe tbody tr th:only-of-type {\n",
       "        vertical-align: middle;\n",
       "    }\n",
       "\n",
       "    .dataframe tbody tr th {\n",
       "        vertical-align: top;\n",
       "    }\n",
       "\n",
       "    .dataframe thead th {\n",
       "        text-align: right;\n",
       "    }\n",
       "</style>\n",
       "<table border=\"1\" class=\"dataframe\">\n",
       "  <thead>\n",
       "    <tr style=\"text-align: right;\">\n",
       "      <th></th>\n",
       "      <th>review</th>\n",
       "      <th>sentiment</th>\n",
       "    </tr>\n",
       "  </thead>\n",
       "  <tbody>\n",
       "    <tr>\n",
       "      <th>0</th>\n",
       "      <td>One of the other reviewers has mentioned that ...</td>\n",
       "      <td>positive</td>\n",
       "    </tr>\n",
       "    <tr>\n",
       "      <th>1</th>\n",
       "      <td>A wonderful little production. &lt;br /&gt;&lt;br /&gt;The...</td>\n",
       "      <td>positive</td>\n",
       "    </tr>\n",
       "    <tr>\n",
       "      <th>2</th>\n",
       "      <td>I thought this was a wonderful way to spend ti...</td>\n",
       "      <td>positive</td>\n",
       "    </tr>\n",
       "    <tr>\n",
       "      <th>3</th>\n",
       "      <td>Basically there's a family where a little boy ...</td>\n",
       "      <td>negative</td>\n",
       "    </tr>\n",
       "    <tr>\n",
       "      <th>4</th>\n",
       "      <td>Petter Mattei's \"Love in the Time of Money\" is...</td>\n",
       "      <td>positive</td>\n",
       "    </tr>\n",
       "  </tbody>\n",
       "</table>\n",
       "</div>"
      ],
      "text/plain": [
       "                                              review sentiment\n",
       "0  One of the other reviewers has mentioned that ...  positive\n",
       "1  A wonderful little production. <br /><br />The...  positive\n",
       "2  I thought this was a wonderful way to spend ti...  positive\n",
       "3  Basically there's a family where a little boy ...  negative\n",
       "4  Petter Mattei's \"Love in the Time of Money\" is...  positive"
      ]
     },
     "execution_count": 2,
     "metadata": {},
     "output_type": "execute_result"
    }
   ],
   "source": [
    "dataset = pd.read_csv('IMDB Dataset.csv')\n",
    "dataset = dataset.iloc[:5000]\n",
    "dataset.head()"
   ]
  },
  {
   "cell_type": "markdown",
   "id": "1908053b",
   "metadata": {},
   "source": [
    "#### Checking the distribution of sentiments"
   ]
  },
  {
   "cell_type": "code",
   "execution_count": 3,
   "id": "ba0797f1",
   "metadata": {},
   "outputs": [
    {
     "data": {
      "text/plain": [
       "negative    2532\n",
       "positive    2468\n",
       "Name: sentiment, dtype: int64"
      ]
     },
     "execution_count": 3,
     "metadata": {},
     "output_type": "execute_result"
    }
   ],
   "source": [
    "dataset['sentiment'].value_counts()"
   ]
  },
  {
   "cell_type": "code",
   "execution_count": 4,
   "id": "7a035cc5",
   "metadata": {},
   "outputs": [
    {
     "data": {
      "text/plain": [
       "review       0\n",
       "sentiment    0\n",
       "dtype: int64"
      ]
     },
     "execution_count": 4,
     "metadata": {},
     "output_type": "execute_result"
    }
   ],
   "source": [
    "dataset.isnull().sum()"
   ]
  },
  {
   "cell_type": "markdown",
   "id": "fbed5e97",
   "metadata": {},
   "source": [
    "#### Checking and Deleting duplicate values"
   ]
  },
  {
   "cell_type": "code",
   "execution_count": 5,
   "id": "512b1385",
   "metadata": {},
   "outputs": [
    {
     "data": {
      "text/plain": [
       "3"
      ]
     },
     "execution_count": 5,
     "metadata": {},
     "output_type": "execute_result"
    }
   ],
   "source": [
    "dataset.duplicated().sum()"
   ]
  },
  {
   "cell_type": "code",
   "execution_count": 6,
   "id": "d05009ef",
   "metadata": {},
   "outputs": [],
   "source": [
    "dataset.drop_duplicates(inplace = True)"
   ]
  },
  {
   "cell_type": "markdown",
   "id": "441cb11f",
   "metadata": {},
   "source": [
    "#### Basic preprocessing steps\n"
   ]
  },
  {
   "cell_type": "code",
   "execution_count": 7,
   "id": "6f6ba684",
   "metadata": {},
   "outputs": [],
   "source": [
    "def Lower_Case(text):\n",
    "    text = text.lower()\n",
    "    return text\n",
    "\n",
    "dataset['review'] = dataset['review'].apply(Lower_Case)"
   ]
  },
  {
   "cell_type": "code",
   "execution_count": 8,
   "id": "ae8ccf5e",
   "metadata": {},
   "outputs": [],
   "source": [
    "def remove_tags_urls(text):\n",
    "    pattern = re.compile('<.*?>')\n",
    "    text = pattern.sub(r'', text)\n",
    "    return text\n",
    "\n",
    "dataset['review'] = dataset['review'].apply(remove_tags_urls)"
   ]
  },
  {
   "cell_type": "code",
   "execution_count": 9,
   "id": "11f2b750",
   "metadata": {},
   "outputs": [],
   "source": [
    "def remove_punctuation(text):\n",
    "    pattern = re.compile('[^\\w\\s]')\n",
    "    text = pattern.sub(r'', text)\n",
    "    return text\n",
    "\n",
    "dataset['review'] = dataset['review'].apply(remove_punctuation)"
   ]
  },
  {
   "cell_type": "code",
   "execution_count": 10,
   "id": "dc2b4e9a",
   "metadata": {},
   "outputs": [],
   "source": [
    "stopwords_list = stopwords.words('english')\n",
    "dataset['review'] = dataset['review'].apply(lambda x: [item for item in x.split() if item not in stopwords_list]).apply(lambda x: \" \".join(x))"
   ]
  },
  {
   "cell_type": "code",
   "execution_count": 11,
   "id": "0067f29f",
   "metadata": {},
   "outputs": [
    {
     "data": {
      "text/plain": [
       "0    one reviewers mentioned watching 1 oz episode ...\n",
       "1    wonderful little production filming technique ...\n",
       "2    thought wonderful way spend time hot summer we...\n",
       "3    basically theres family little boy jake thinks...\n",
       "4    petter matteis love time money visually stunni...\n",
       "Name: review, dtype: object"
      ]
     },
     "execution_count": 11,
     "metadata": {},
     "output_type": "execute_result"
    }
   ],
   "source": [
    "dataset['review'].head()"
   ]
  },
  {
   "cell_type": "code",
   "execution_count": 12,
   "id": "36b9ae81",
   "metadata": {},
   "outputs": [],
   "source": [
    "x = dataset.iloc[:, 0:1]\n",
    "y = dataset['sentiment']"
   ]
  },
  {
   "cell_type": "markdown",
   "id": "4595924b",
   "metadata": {},
   "source": [
    "#### Enoding categorical columns"
   ]
  },
  {
   "cell_type": "code",
   "execution_count": 13,
   "id": "1a3d6efa",
   "metadata": {},
   "outputs": [],
   "source": [
    "from sklearn.preprocessing import LabelEncoder\n",
    "encoder = LabelEncoder()\n",
    "y = encoder.fit_transform(y)"
   ]
  },
  {
   "cell_type": "markdown",
   "id": "ac360c6e",
   "metadata": {},
   "source": [
    "#### Splitting the data into train and test set"
   ]
  },
  {
   "cell_type": "code",
   "execution_count": 14,
   "id": "c74f674c",
   "metadata": {},
   "outputs": [],
   "source": [
    "from sklearn.model_selection import train_test_split\n",
    "x_train, x_test, y_train, y_test = train_test_split(x, y, test_size = 0.2, random_state = 42)"
   ]
  },
  {
   "cell_type": "markdown",
   "id": "98143256",
   "metadata": {},
   "source": [
    "### 1. Bag Of Words Implementation"
   ]
  },
  {
   "cell_type": "code",
   "execution_count": 15,
   "id": "6f48589c",
   "metadata": {},
   "outputs": [],
   "source": [
    "from sklearn.feature_extraction.text import CountVectorizer\n",
    "vectorizer = CountVectorizer()"
   ]
  },
  {
   "cell_type": "code",
   "execution_count": 16,
   "id": "ac631807",
   "metadata": {},
   "outputs": [],
   "source": [
    "x_train_bow = vectorizer.fit_transform(x_train['review']).toarray()\n",
    "x_test_bow = vectorizer.transform(x_test['review']).toarray()"
   ]
  },
  {
   "cell_type": "markdown",
   "id": "4bf986cf",
   "metadata": {},
   "source": [
    "#### Using Naive Bayes Algorithm to train the model"
   ]
  },
  {
   "cell_type": "code",
   "execution_count": 17,
   "id": "9bfd535f",
   "metadata": {},
   "outputs": [
    {
     "data": {
      "text/plain": [
       "GaussianNB()"
      ]
     },
     "execution_count": 17,
     "metadata": {},
     "output_type": "execute_result"
    }
   ],
   "source": [
    "from sklearn.naive_bayes import GaussianNB\n",
    "classifier = GaussianNB()\n",
    "\n",
    "classifier.fit(x_train_bow, y_train)"
   ]
  },
  {
   "cell_type": "code",
   "execution_count": 18,
   "id": "f6739910",
   "metadata": {},
   "outputs": [],
   "source": [
    "y_pred = classifier.predict(x_test_bow)"
   ]
  },
  {
   "cell_type": "markdown",
   "id": "16c67f06",
   "metadata": {},
   "source": [
    "#### Accuracy of the model"
   ]
  },
  {
   "cell_type": "code",
   "execution_count": 19,
   "id": "f4341494",
   "metadata": {},
   "outputs": [
    {
     "data": {
      "text/plain": [
       "0.658"
      ]
     },
     "execution_count": 19,
     "metadata": {},
     "output_type": "execute_result"
    }
   ],
   "source": [
    "from sklearn.metrics import accuracy_score, confusion_matrix\n",
    "accuracy_score(y_test, y_pred)"
   ]
  },
  {
   "cell_type": "code",
   "execution_count": 20,
   "id": "a0eda9ba",
   "metadata": {},
   "outputs": [
    {
     "data": {
      "text/plain": [
       "array([[374, 139],\n",
       "       [203, 284]], dtype=int64)"
      ]
     },
     "execution_count": 20,
     "metadata": {},
     "output_type": "execute_result"
    }
   ],
   "source": [
    "confusion_matrix(y_test, y_pred)"
   ]
  },
  {
   "cell_type": "markdown",
   "id": "96fedbfd",
   "metadata": {},
   "source": [
    "#### Using Random Forest Algorithm to train the model and finding accuracy"
   ]
  },
  {
   "cell_type": "code",
   "execution_count": 21,
   "id": "0c4df0ee",
   "metadata": {},
   "outputs": [
    {
     "data": {
      "text/plain": [
       "0.823"
      ]
     },
     "execution_count": 21,
     "metadata": {},
     "output_type": "execute_result"
    }
   ],
   "source": [
    "from sklearn.ensemble import RandomForestClassifier\n",
    "classifier2 = RandomForestClassifier()\n",
    "\n",
    "classifier2.fit(x_train_bow, y_train)\n",
    "\n",
    "y_pred2 = classifier2.predict(x_test_bow)\n",
    "\n",
    "accuracy_score(y_test, y_pred2)"
   ]
  },
  {
   "cell_type": "code",
   "execution_count": 22,
   "id": "84886d00",
   "metadata": {},
   "outputs": [
    {
     "data": {
      "text/plain": [
       "array([[432,  81],\n",
       "       [ 96, 391]], dtype=int64)"
      ]
     },
     "execution_count": 22,
     "metadata": {},
     "output_type": "execute_result"
    }
   ],
   "source": [
    "confusion_matrix(y_test, y_pred2)"
   ]
  },
  {
   "cell_type": "code",
   "execution_count": 23,
   "id": "641896d4",
   "metadata": {},
   "outputs": [
    {
     "data": {
      "text/plain": [
       "0.817"
      ]
     },
     "execution_count": 23,
     "metadata": {},
     "output_type": "execute_result"
    }
   ],
   "source": [
    "# More faster code implementation\n",
    "vectorizer2 = CountVectorizer(max_features=3000)\n",
    "\n",
    "x_train_bow = vectorizer2.fit_transform(x_train['review']).toarray()\n",
    "x_test_bow = vectorizer2.transform(x_test['review']).toarray()\n",
    "\n",
    "classifier2 = RandomForestClassifier()\n",
    "\n",
    "classifier2.fit(x_train_bow, y_train)\n",
    "y_pred3 = classifier2.predict(x_test_bow)\n",
    "\n",
    "accuracy_score(y_test, y_pred3)"
   ]
  },
  {
   "cell_type": "code",
   "execution_count": 24,
   "id": "25b9d0fd",
   "metadata": {},
   "outputs": [
    {
     "data": {
      "text/plain": [
       "array([[438,  75],\n",
       "       [108, 379]], dtype=int64)"
      ]
     },
     "execution_count": 24,
     "metadata": {},
     "output_type": "execute_result"
    }
   ],
   "source": [
    "confusion_matrix(y_test, y_pred3)"
   ]
  },
  {
   "cell_type": "markdown",
   "id": "75428ccc",
   "metadata": {},
   "source": [
    "### 2. N-Grams Implementation"
   ]
  },
  {
   "cell_type": "markdown",
   "id": "4913dbbd",
   "metadata": {},
   "source": [
    "#### Using Random Forest Algorithm to train the model and finding accuracy for bi-grams"
   ]
  },
  {
   "cell_type": "code",
   "execution_count": 25,
   "id": "52068853",
   "metadata": {},
   "outputs": [
    {
     "data": {
      "text/plain": [
       "0.819"
      ]
     },
     "execution_count": 25,
     "metadata": {},
     "output_type": "execute_result"
    }
   ],
   "source": [
    "vectorizer3 = CountVectorizer(ngram_range = (1,2), max_features = 3000)\n",
    "\n",
    "x_train_bow = vectorizer2.fit_transform(x_train['review']).toarray()\n",
    "x_test_bow = vectorizer2.transform(x_test['review']).toarray()\n",
    "\n",
    "classifier2 = RandomForestClassifier()\n",
    "\n",
    "classifier2.fit(x_train_bow, y_train)\n",
    "y_pred4 = classifier2.predict(x_test_bow)\n",
    "\n",
    "accuracy_score(y_test, y_pred4)"
   ]
  },
  {
   "cell_type": "code",
   "execution_count": 26,
   "id": "81c50558",
   "metadata": {},
   "outputs": [
    {
     "data": {
      "text/plain": [
       "array([[439,  74],\n",
       "       [107, 380]], dtype=int64)"
      ]
     },
     "execution_count": 26,
     "metadata": {},
     "output_type": "execute_result"
    }
   ],
   "source": [
    "confusion_matrix(y_test, y_pred4)"
   ]
  },
  {
   "cell_type": "markdown",
   "id": "6328ad8a",
   "metadata": {},
   "source": [
    "### 3. TF-IDF Implementation"
   ]
  },
  {
   "cell_type": "markdown",
   "id": "83ecaac9",
   "metadata": {},
   "source": [
    "#### Using Random Forest Algorithm to train the model and finding accuracy"
   ]
  },
  {
   "cell_type": "code",
   "execution_count": 27,
   "id": "61fd7e37",
   "metadata": {},
   "outputs": [],
   "source": [
    "from sklearn.feature_extraction.text import TfidfVectorizer\n",
    "vectorizer4 = TfidfVectorizer()"
   ]
  },
  {
   "cell_type": "code",
   "execution_count": 28,
   "id": "b7726c14",
   "metadata": {},
   "outputs": [],
   "source": [
    "x_train_tfidf = vectorizer4.fit_transform(x_train['review']).toarray()\n",
    "x_test_tfidf = vectorizer4.transform(x_test['review']).toarray()"
   ]
  },
  {
   "cell_type": "code",
   "execution_count": 29,
   "id": "9071020a",
   "metadata": {},
   "outputs": [
    {
     "data": {
      "text/plain": [
       "0.834"
      ]
     },
     "execution_count": 29,
     "metadata": {},
     "output_type": "execute_result"
    }
   ],
   "source": [
    "classifier2 = RandomForestClassifier()\n",
    "\n",
    "classifier2.fit(x_train_tfidf, y_train)\n",
    "y_pred5 = classifier2.predict(x_test_tfidf)\n",
    "\n",
    "accuracy_score(y_test, y_pred5)"
   ]
  },
  {
   "cell_type": "code",
   "execution_count": 30,
   "id": "b64ac890",
   "metadata": {},
   "outputs": [
    {
     "data": {
      "text/plain": [
       "array([[451,  62],\n",
       "       [104, 383]], dtype=int64)"
      ]
     },
     "execution_count": 30,
     "metadata": {},
     "output_type": "execute_result"
    }
   ],
   "source": [
    "confusion_matrix(y_test, y_pred5)"
   ]
  }
 ],
 "metadata": {
  "kernelspec": {
   "display_name": "Python 3 (ipykernel)",
   "language": "python",
   "name": "python3"
  },
  "language_info": {
   "codemirror_mode": {
    "name": "ipython",
    "version": 3
   },
   "file_extension": ".py",
   "mimetype": "text/x-python",
   "name": "python",
   "nbconvert_exporter": "python",
   "pygments_lexer": "ipython3",
   "version": "3.9.13"
  }
 },
 "nbformat": 4,
 "nbformat_minor": 5
}
