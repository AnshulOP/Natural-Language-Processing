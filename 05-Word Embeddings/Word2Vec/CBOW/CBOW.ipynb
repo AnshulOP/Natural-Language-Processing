{
 "cells": [
  {
   "cell_type": "markdown",
   "id": "0ce250af",
   "metadata": {},
   "source": [
    "#### Importing the Libraries"
   ]
  },
  {
   "cell_type": "code",
   "execution_count": 1,
   "id": "4efe5d8a",
   "metadata": {},
   "outputs": [],
   "source": [
    "from gensim.models import Word2Vec\n",
    "from gensim.models.callbacks import CallbackAny2Vec"
   ]
  },
  {
   "cell_type": "markdown",
   "id": "1788e0bc",
   "metadata": {},
   "source": [
    "#### Creating class to implement CBOW"
   ]
  },
  {
   "cell_type": "code",
   "execution_count": 11,
   "id": "64914ecd",
   "metadata": {},
   "outputs": [],
   "source": [
    "class LossLogger(CallbackAny2Vec):\n",
    "    def __init__(self):\n",
    "        self.losses = []\n",
    "\n",
    "    def on_epoch_end(self, model):\n",
    "        loss = model.get_latest_training_loss()\n",
    "        self.losses.append(loss)"
   ]
  },
  {
   "cell_type": "markdown",
   "id": "7e23fe98",
   "metadata": {},
   "source": [
    "#### Initialising corpus over which CBOW needs to be applied"
   ]
  },
  {
   "cell_type": "code",
   "execution_count": 12,
   "id": "271b2133",
   "metadata": {},
   "outputs": [],
   "source": [
    "sentences = [[\"I\", \"like\", \"apples\", \"and\", \"bananas\"],\n",
    "             [\"She\", \"likes\", \"oranges\", \"and\", \"pears\"],\n",
    "             [\"He\", \"doesn't\", \"like\", \"grapes\", \"or\", \"kiwis\"]]"
   ]
  },
  {
   "cell_type": "markdown",
   "id": "4ea92457",
   "metadata": {},
   "source": [
    "#### Defiining the model"
   ]
  },
  {
   "cell_type": "code",
   "execution_count": 13,
   "id": "03c1d97b",
   "metadata": {},
   "outputs": [],
   "source": [
    "model = Word2Vec(sentences, sg=0, vector_size=1, min_count=1, workers=1, window=2, seed=42, callbacks=[LossLogger()])"
   ]
  },
  {
   "cell_type": "markdown",
   "id": "3389111e",
   "metadata": {},
   "source": [
    "#### Get word embeddings"
   ]
  },
  {
   "cell_type": "code",
   "execution_count": 14,
   "id": "8beaa905",
   "metadata": {},
   "outputs": [
    {
     "name": "stdout",
     "output_type": "stream",
     "text": [
      "[0.4717931]\n",
      "[-0.8116454]\n"
     ]
    }
   ],
   "source": [
    "print(model.wv['apples'])\n",
    "print(model.wv['likes'])"
   ]
  },
  {
   "cell_type": "code",
   "execution_count": 15,
   "id": "a0fa0f22",
   "metadata": {},
   "outputs": [
    {
     "ename": "AttributeError",
     "evalue": "'Word2Vec' object has no attribute 'callbacks'",
     "output_type": "error",
     "traceback": [
      "\u001b[1;31m---------------------------------------------------------------------------\u001b[0m",
      "\u001b[1;31mAttributeError\u001b[0m                            Traceback (most recent call last)",
      "\u001b[1;32m~\\AppData\\Local\\Temp\\ipykernel_640\\4054145501.py\u001b[0m in \u001b[0;36m<module>\u001b[1;34m\u001b[0m\n\u001b[1;32m----> 1\u001b[1;33m \u001b[0mlosses\u001b[0m \u001b[1;33m=\u001b[0m \u001b[0mmodel\u001b[0m\u001b[1;33m.\u001b[0m\u001b[0mcallbacks\u001b[0m\u001b[1;33m[\u001b[0m\u001b[1;36m0\u001b[0m\u001b[1;33m]\u001b[0m\u001b[1;33m.\u001b[0m\u001b[0mlosses\u001b[0m\u001b[1;33m\u001b[0m\u001b[1;33m\u001b[0m\u001b[0m\n\u001b[0m\u001b[0;32m      2\u001b[0m \u001b[0mprint\u001b[0m\u001b[1;33m(\u001b[0m\u001b[1;34m\"Losses:\"\u001b[0m\u001b[1;33m,\u001b[0m \u001b[0mlosses\u001b[0m\u001b[1;33m)\u001b[0m\u001b[1;33m\u001b[0m\u001b[1;33m\u001b[0m\u001b[0m\n",
      "\u001b[1;31mAttributeError\u001b[0m: 'Word2Vec' object has no attribute 'callbacks'"
     ]
    }
   ],
   "source": [
    "losses = model.callbacks[0].losses\n",
    "print(\"Losses:\", losses)"
   ]
  },
  {
   "cell_type": "code",
   "execution_count": null,
   "id": "326f7f26",
   "metadata": {},
   "outputs": [],
   "source": []
  }
 ],
 "metadata": {
  "kernelspec": {
   "display_name": "Python 3 (ipykernel)",
   "language": "python",
   "name": "python3"
  },
  "language_info": {
   "codemirror_mode": {
    "name": "ipython",
    "version": 3
   },
   "file_extension": ".py",
   "mimetype": "text/x-python",
   "name": "python",
   "nbconvert_exporter": "python",
   "pygments_lexer": "ipython3",
   "version": "3.9.13"
  }
 },
 "nbformat": 4,
 "nbformat_minor": 5
}
