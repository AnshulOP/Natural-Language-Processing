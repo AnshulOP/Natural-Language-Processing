{
 "cells": [
  {
   "cell_type": "markdown",
   "id": "78d44c9b",
   "metadata": {},
   "source": [
    "#### Importing the Libraries"
   ]
  },
  {
   "cell_type": "code",
   "execution_count": 1,
   "id": "5599dadb",
   "metadata": {},
   "outputs": [],
   "source": [
    "from gensim.models import Word2Vec"
   ]
  },
  {
   "cell_type": "markdown",
   "id": "d204a1ca",
   "metadata": {},
   "source": [
    "#### Initialising corpus over which Skip Gram needs to be applied"
   ]
  },
  {
   "cell_type": "code",
   "execution_count": 2,
   "id": "9a428e4d",
   "metadata": {},
   "outputs": [],
   "source": [
    "sentences = [[\"I\", \"like\", \"apples\", \"and\", \"bananas\"],\n",
    "             [\"She\", \"likes\", \"oranges\", \"and\", \"pears\"],\n",
    "             [\"He\", \"doesn't\", \"like\", \"grapes\", \"or\", \"kiwis\"]]"
   ]
  },
  {
   "cell_type": "markdown",
   "id": "b2e8c26a",
   "metadata": {},
   "source": [
    "#### Defiining the model"
   ]
  },
  {
   "cell_type": "code",
   "execution_count": 7,
   "id": "0624844c",
   "metadata": {},
   "outputs": [],
   "source": [
    "# Create Word2Vec model\n",
    "model = Word2Vec(\n",
    "    sentences,             # Input sentences to train the model on\n",
    "    sg = 1,                  # Use the Skip Gram algorithm\n",
    "    vector_size = 3,         # Set the dimensionality of the word vectors to 1\n",
    "    min_count = 1,           # Ignore words with a frequency lower than 1\n",
    "    workers = 1,             # Use a single worker thread for training\n",
    "    window = 2,              # Set the context window size to 2\n",
    "    seed = 42               # Set the seed for reproducibility\n",
    ")"
   ]
  },
  {
   "cell_type": "markdown",
   "id": "de7453d8",
   "metadata": {},
   "source": [
    "#### Get word embeddings"
   ]
  },
  {
   "cell_type": "code",
   "execution_count": 8,
   "id": "835a7fe1",
   "metadata": {},
   "outputs": [
    {
     "name": "stdout",
     "output_type": "stream",
     "text": [
      "[0.4717931]\n",
      "[-0.8116454]\n"
     ]
    }
   ],
   "source": [
    "print(model.wv['apples'])\n",
    "print(model.wv['likes'])"
   ]
  },
  {
   "cell_type": "code",
   "execution_count": null,
   "id": "3716d1ef",
   "metadata": {},
   "outputs": [],
   "source": [
    "# NOTE : \n",
    "# Skip-gram predicts context words given a target word, while CBOW predicts a target word given its context words. \n",
    "# The resulting word embeddings capture the semantic meaning or context of words in a multi-dimensional space."
   ]
  }
 ],
 "metadata": {
  "kernelspec": {
   "display_name": "Python 3 (ipykernel)",
   "language": "python",
   "name": "python3"
  },
  "language_info": {
   "codemirror_mode": {
    "name": "ipython",
    "version": 3
   },
   "file_extension": ".py",
   "mimetype": "text/x-python",
   "name": "python",
   "nbconvert_exporter": "python",
   "pygments_lexer": "ipython3",
   "version": "3.9.13"
  }
 },
 "nbformat": 4,
 "nbformat_minor": 5
}
